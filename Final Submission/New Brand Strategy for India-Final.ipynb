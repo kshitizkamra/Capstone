{
 "cells": [
  {
   "cell_type": "markdown",
   "metadata": {},
   "source": [
    "#  Launching a New Clothing Retail Brand in India"
   ]
  },
  {
   "cell_type": "markdown",
   "metadata": {},
   "source": [
    "The domestic fashion industry in India is growing, backed by strong consumer demand for fashionable clothing through online portals, stores and small boutiques. The fashion or clothing stores which used to be unorganized with small businesses is now becoming more organized with the rise of large fashion retail chains.  However, the demand still exists for small fashion boutiques due to the availability of certain lines of garment or styles. In this notebook, we look at the procedure for starting a fashion business in India."
   ]
  },
  {
   "cell_type": "markdown",
   "metadata": {},
   "source": [
    "## Fashion Industry in India"
   ]
  },
  {
   "cell_type": "markdown",
   "metadata": {},
   "source": [
    "The Indian fashion industry is one of the largest in the world as it provides clothing – a basic necessity for more than 1.2 billion people.<br> \n",
    "Textiles and clothing account for a phenomenal 14% of total industrial production."
   ]
  },
  {
   "cell_type": "markdown",
   "metadata": {},
   "source": [
    "## Fashion Business Models"
   ]
  },
  {
   "cell_type": "markdown",
   "metadata": {},
   "source": [
    "A fashion business can be set up under various models. The aspirations, experience and expertise of the promoters must be taken into consideration while deciding on the business model. The following are well-known fashion-related businesses in India"
   ]
  },
  {
   "cell_type": "markdown",
   "metadata": {},
   "source": [
    "1) <b>Fashion Designing</b><br>\n",
    "+ Fashion designers design clothes that aesthetically fitting a client or an audience. Fashion designers are usually hired for creating dresses for special occasions.\n",
    "+ Stylists, on the other hand, are that advice about the kind of garment to be worn in different situations.<br>\n",
    "\n",
    "2) <b>Clothing Retail Chain and Fashion boutiques</b><br>\n",
    "+ Fashion boutiques are small clothing stores selling a unique line of clothing from one or more fashion designers. \n",
    "+ Fashion boutiques typically cater to a niche audience, while a large <u>clothing retail chain</u> would cater to a wider audience.<br>\n",
    "\n",
    "3) <b>Online Fashion Retail</b><br>\n",
    "+ Ecommerce is booming in India and consumers are becoming used to the idea of buying clothes online. The success of websites like Myntra, Jabong and YepMe are testaments to the success of online fashion retailers. Like fashion boutique thriving amongst the growth of large clothing retail chains, there still exists plenty of opportunity for nice online fashion retail websites.\n",
    "+ In addition to setting up a proprietary website, fashion entrepreneurs can also sell clothing through online portals like Flipkart, Snapdeal, Amazon India, PayTM and more."
   ]
  },
  {
   "cell_type": "markdown",
   "metadata": {},
   "source": [
    "## Setting up the Business"
   ]
  },
  {
   "cell_type": "markdown",
   "metadata": {},
   "source": [
    "To start a fashion business, a business entity would have to be the first setup and a bank account must be opened in the name of the business (optional). A person can start a fashion business as a Proprietorship or Partnership or as a Limited Liability Partnership ( LLP) or Company.\n",
    "\n",
    "Proprietorship is ideal for those starting a fashion designing or stylist business as a part-time job, wherein the annual sales turnover is not going to be more than Rs.10 lakhs in a year. For those wishing to set up a full-fledged fashion business or fashion boutique, an LLP or Private Limited Company would be ideal – as it allows the businesses to more easily scale, take on partners and get capital easily."
   ]
  },
  {
   "cell_type": "markdown",
   "metadata": {},
   "source": [
    "#  Business Problem"
   ]
  },
  {
   "cell_type": "markdown",
   "metadata": {},
   "source": [
    "##  <u> `Best neighborhood for starting a clothing retail chain in India`</u>"
   ]
  },
  {
   "cell_type": "markdown",
   "metadata": {},
   "source": [
    "The problem of our finding the best neighbourhood would be divided into series of probelms as below"
   ]
  },
  {
   "cell_type": "markdown",
   "metadata": {},
   "source": [
    "1) <b> Fashion and retail contribution to Indian GDP </b><br>\n",
    "+   In this section we will discuss how big is the clothing industry in India and whether or not its a good idea to cater the sector"
   ]
  },
  {
   "cell_type": "markdown",
   "metadata": {},
   "source": [
    "2) <b>Mens-Womens-Kids contribution </b><br>\n",
    "+ In this section we will try to figure out which is the best category to focus for a clothing store in India"
   ]
  },
  {
   "cell_type": "markdown",
   "metadata": {},
   "source": [
    "3) <b> Best brands and Best growing brands (5 each) </b>\n",
    "+ In this section we will focus on 5 top selling brands in india and 5 top growing brands in past 5 years of the category selected in part 2 of the excercise\n",
    "+ This will not help us understanding them but also help us in making our range for products and its pricing which we will sell from our store"
   ]
  },
  {
   "cell_type": "markdown",
   "metadata": {},
   "source": [
    "4) <b>Cities where these brands are present in India <br> </b>\n",
    "+ In this section we will figure out the cities where the 10 brands are present in India"
   ]
  },
  {
   "cell_type": "markdown",
   "metadata": {},
   "source": [
    "5) <b> Selecting a city for our  first Clothing Store launch </b>\n",
    "+ Figuring out the best city from the lot using rating, per capita income and per capita spending of the people in the city "
   ]
  },
  {
   "cell_type": "markdown",
   "metadata": {},
   "source": [
    "6) <b> Selecting the best neighborhood in city for our First Clothing Store Launch </b>\n",
    "+ Within the city, selecting the best neighborhood according to rentals, ratings, trending places over weekend and after office hours on weekdays"
   ]
  },
  {
   "cell_type": "markdown",
   "metadata": {},
   "source": [
    "## Assumptions"
   ]
  },
  {
   "cell_type": "markdown",
   "metadata": {},
   "source": [
    "1) We have registered and taken all the approvals for the brand <br>\n",
    "\n",
    "2) We have a proper team who will take care of design to delivery at store of the products <br>\n",
    "\n",
    "3) Most of the shopping in India for clothes are done either on weekends or after office hours on weekdays<br>"
   ]
  },
  {
   "cell_type": "markdown",
   "metadata": {},
   "source": [
    "### And after solving a series of problem we will be able to decide the perfect location where our first store should be."
   ]
  },
  {
   "cell_type": "code",
   "execution_count": null,
   "metadata": {},
   "outputs": [],
   "source": []
  }
 ],
 "metadata": {
  "kernelspec": {
   "display_name": "Python 3",
   "language": "python",
   "name": "python3"
  },
  "language_info": {
   "codemirror_mode": {
    "name": "ipython",
    "version": 3
   },
   "file_extension": ".py",
   "mimetype": "text/x-python",
   "name": "python",
   "nbconvert_exporter": "python",
   "pygments_lexer": "ipython3",
   "version": "3.7.6"
  }
 },
 "nbformat": 4,
 "nbformat_minor": 4
}
